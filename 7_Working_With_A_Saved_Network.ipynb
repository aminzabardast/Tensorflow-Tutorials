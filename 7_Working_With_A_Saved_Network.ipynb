{
  "nbformat": 4,
  "nbformat_minor": 0,
  "metadata": {
    "colab": {
      "name": "7_Working_With_A_Saved_Network.ipynb",
      "version": "0.3.2",
      "provenance": [],
      "include_colab_link": true
    },
    "kernelspec": {
      "display_name": "Python 3",
      "language": "python",
      "name": "python3"
    }
  },
  "cells": [
    {
      "cell_type": "markdown",
      "metadata": {
        "id": "view-in-github",
        "colab_type": "text"
      },
      "source": [
        "[View in Colaboratory](https://colab.research.google.com/github/aminzabardast/Tensorflow-Tutorials/blob/dev/7_Working_With_A_Saved_Network.ipynb)"
      ]
    },
    {
      "metadata": {
        "id": "XAbEXWRX3xhp",
        "colab_type": "code",
        "colab": {
          "base_uri": "https://localhost:8080/",
          "height": 119
        },
        "outputId": "738f167a-9bf7-4400-d99f-2bc4d171f82f"
      },
      "cell_type": "code",
      "source": [
        "!rm -rf saved*\n",
        "!wget -q -c \"https://github.com/aminzabardast/Tensorflow-Tutorials/raw/dev/saved-network/saved.tar.gz\"\n",
        "!tar -xf saved.tar.gz\n",
        "!ls"
      ],
      "execution_count": 40,
      "outputs": [
        {
          "output_type": "stream",
          "text": [
            "\r\n",
            "gzip: stdin: unexpected end of file\r\n",
            "tar: Unexpected EOF in archive\r\n",
            "tar: Unexpected EOF in archive\r\n",
            "tar: Error is not recoverable: exiting now\n",
            "datalab  saved-network\tsaved.tar.gz\n"
          ],
          "name": "stdout"
        }
      ]
    },
    {
      "metadata": {
        "id": "_mmjE2OqLcpp",
        "colab_type": "code",
        "colab": {}
      },
      "cell_type": "code",
      "source": [
        ""
      ],
      "execution_count": 0,
      "outputs": []
    }
  ]
}