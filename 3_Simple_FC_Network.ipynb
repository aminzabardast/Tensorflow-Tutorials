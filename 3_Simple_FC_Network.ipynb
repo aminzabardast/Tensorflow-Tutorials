{
  "nbformat": 4,
  "nbformat_minor": 0,
  "metadata": {
    "colab": {
      "name": "3_Simple_FC_Network.ipynb",
      "version": "0.3.2",
      "provenance": []
    },
    "kernelspec": {
      "display_name": "Python 3",
      "language": "python",
      "name": "python3"
    },
    "accelerator": "GPU"
  },
  "cells": [
    {
      "cell_type": "markdown",
      "metadata": {
        "id": "view-in-github",
        "colab_type": "text"
      },
      "source": [
        "[View in Colaboratory](https://colab.research.google.com/github/aminzabardast/Tensorflow-Tutorials/blob/dev/3_Simple_FC_Network.ipynb)"
      ]
    },
    {
      "metadata": {
        "id": "_waiNR8X0igs",
        "colab_type": "text"
      },
      "cell_type": "markdown",
      "source": [
        "# A Simple Fully Connected Artificial Neural Network"
      ]
    },
    {
      "metadata": {
        "id": "7RguvMwS0vDU",
        "colab_type": "text"
      },
      "cell_type": "markdown",
      "source": [
        ""
      ]
    },
    {
      "metadata": {
        "id": "4DfETZY80dvT",
        "colab_type": "code",
        "colab": {},
        "outputId": "bde9b0c1-4079-44eb-eb10-7b1293550cf9"
      },
      "cell_type": "code",
      "source": [
        "print('Hello World!')"
      ],
      "execution_count": 0,
      "outputs": [
        {
          "output_type": "stream",
          "text": [
            "Hello World!\n"
          ],
          "name": "stdout"
        }
      ]
    }
  ]
}