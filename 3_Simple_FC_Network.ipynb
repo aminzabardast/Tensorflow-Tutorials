{
  "nbformat": 4,
  "nbformat_minor": 0,
  "metadata": {
    "colab": {
      "name": "3_Simple_FC_Network.ipynb",
      "version": "0.3.2",
      "provenance": []
    },
    "kernelspec": {
      "display_name": "Python 3",
      "language": "python",
      "name": "python3"
    },
    "accelerator": "GPU"
  },
  "cells": [
    {
      "cell_type": "markdown",
      "metadata": {
        "id": "view-in-github",
        "colab_type": "text"
      },
      "source": [
        "[View in Colaboratory](https://colab.research.google.com/github/aminzabardast/Tensorflow-Tutorials/blob/master/3_Simple_FC_Network.ipynb)"
      ]
    },
    {
      "metadata": {
        "id": "_waiNR8X0igs",
        "colab_type": "text"
      },
      "cell_type": "markdown",
      "source": [
        "# A Simple Fully Connected Artificial Neural Network"
      ]
    },
    {
      "metadata": {
        "id": "7RguvMwS0vDU",
        "colab_type": "text"
      },
      "cell_type": "markdown",
      "source": [
        "As always, the initial step for any python program is to import necessary libraries."
      ]
    },
    {
      "metadata": {
        "id": "4DfETZY80dvT",
        "colab_type": "code",
        "colab": {}
      },
      "cell_type": "code",
      "source": [
        "import tensorflow as tf\n",
        "import numpy as np\n",
        "import matplotlib.pyplot as plt"
      ],
      "execution_count": 0,
      "outputs": []
    },
    {
      "metadata": {
        "id": "ZX1jZcQf2fN8",
        "colab_type": "text"
      },
      "cell_type": "markdown",
      "source": [
        "## Generating Data"
      ]
    },
    {
      "metadata": {
        "id": "UIuE8NcG2iK-",
        "colab_type": "text"
      },
      "cell_type": "markdown",
      "source": [
        "For this example, a 2D data clound will be generatied. 1 dimension will be provided as training data (`xs`) and the other dimension will be the truth value (`ys`).\n",
        "\n",
        "A seed value will be set to make sure that the result is re-generatable. The data cloud mentioned above will follow a parabolic function ( $y=x^2$ ) with added noise generated from a normal distribution with a $0$ mean and $0.5$ standard deviation."
      ]
    },
    {
      "metadata": {
        "id": "mbx_XYAf4Rk6",
        "colab_type": "code",
        "colab": {}
      },
      "cell_type": "code",
      "source": [
        "np.random.seed(seed=23)\n",
        "xs = np.linspace(-1, 1, 300)[:, np.newaxis]\n",
        "noise = np.random.normal(0, .1, size=xs.shape)\n",
        "ys = np.square(xs) - 0.5 + noise"
      ],
      "execution_count": 0,
      "outputs": []
    },
    {
      "metadata": {
        "id": "wBpbdz0B4YYz",
        "colab_type": "code",
        "colab": {
          "base_uri": "https://localhost:8080/",
          "height": 347
        },
        "outputId": "bd784df2-6457-4d2c-b795-17afdfcb354d"
      },
      "cell_type": "code",
      "source": [
        "fig1 = plt.figure()\n",
        "ax = fig1.add_subplot(1,1,1)\n",
        "ax.scatter(xs, ys)\n",
        "plt.ion()\n",
        "plt.show()"
      ],
      "execution_count": 0,
      "outputs": [
        {
          "output_type": "display_data",
          "data": {
            "image/png": "[encoded data removed]",
            "text/plain": [
              "<matplotlib.figure.Figure at 0x7f55dd4c4be0>"
            ]
          },
          "metadata": {
            "tags": []
          }
        }
      ]
    },
    {
      "metadata": {
        "id": "xZxyuEJq6LrM",
        "colab_type": "text"
      },
      "cell_type": "markdown",
      "source": [
        "## Placeholders"
      ]
    },
    {
      "metadata": {
        "id": "l4GewPzP6OlL",
        "colab_type": "text"
      },
      "cell_type": "markdown",
      "source": [
        "Placeholders will be used for introducing data into the network. Shape of the placeholders are given in advance. Using `None` for a dimentions will keep the size of that dimention free."
      ]
    },
    {
      "metadata": {
        "id": "Q9QICsR56K3z",
        "colab_type": "code",
        "colab": {}
      },
      "cell_type": "code",
      "source": [
        "xp = tf.placeholder(tf.float32, shape=[None,1])\n",
        "yp = tf.placeholder(tf.float32, shape=[None,1])"
      ],
      "execution_count": 0,
      "outputs": []
    },
    {
      "metadata": {
        "id": "FqaAQqex7bPo",
        "colab_type": "text"
      },
      "cell_type": "markdown",
      "source": [
        "## Defining A Layer"
      ]
    },
    {
      "metadata": {
        "id": "61dDx5sO7e1Q",
        "colab_type": "text"
      },
      "cell_type": "markdown",
      "source": [
        "A neuron in a fully connected (FC) network will recieve all the outputs from neurons in previous layer and sends its output to all neurons in next layer. Mathematically, a FC layer is a matrix multiplication which recieves a vector of size $n$ and multiplies it to a transition matrix with $n \\times m$ dimentions. This transition matrix is called **Weights**. Then these wrights will be summed with a **Bias** vecor of size $m$ returning a vector of size $m$."
      ]
    },
    {
      "metadata": {
        "id": "qCyNix1JAlMt",
        "colab_type": "text"
      },
      "cell_type": "markdown",
      "source": [
        "$$\n",
        " \\begin{pmatrix}\n",
        "  w_{1,1} & w_{1,2} & \\cdots & w_{1,n} \\\\\n",
        "  w_{2,1} & w_{2,2} & \\cdots & w_{2,n} \\\\\n",
        "  \\vdots  & \\vdots  & \\ddots & \\vdots  \\\\\n",
        "  w_{m,1} & w_{m,2} & \\cdots & w_{m,n} \n",
        " \\end{pmatrix}\n",
        "  \\begin{pmatrix}\n",
        "  i_{1,1}\\\\\n",
        "  i_{2,1}\\\\\n",
        "  \\vdots\\\\\n",
        "  i_{n,1} \n",
        " \\end{pmatrix}\n",
        " +\n",
        " \\begin{pmatrix}\n",
        "  b_{1,1}\\\\\n",
        "  b_{2,1}\\\\\n",
        "  \\vdots\\\\\n",
        "  b_{m,1} \n",
        " \\end{pmatrix}\n",
        " =\n",
        "  \\begin{pmatrix}\n",
        "  o_{1,1}\\\\\n",
        "  o_{2,1}\\\\\n",
        "  \\vdots\\\\\n",
        "  o_{m,1} \n",
        " \\end{pmatrix}\n",
        "$$"
      ]
    },
    {
      "metadata": {
        "id": "DeKUC16RG5vC",
        "colab_type": "text"
      },
      "cell_type": "markdown",
      "source": [
        "The whole calculation should also go through an activation function (or a non-liniarity)."
      ]
    },
    {
      "metadata": {
        "id": "pXVQSdNhAlvB",
        "colab_type": "text"
      },
      "cell_type": "markdown",
      "source": [
        "For simplicity, following notation will be used. $W_{m, n}$ are the weights, $I_{n, 1}$ is the input vector, $B_{m,1}$ is the biases vector, $O_{m, 1}$ is output vector and $f(.)$ is the activation function."
      ]
    },
    {
      "metadata": {
        "id": "zKuYOl8ZDD0X",
        "colab_type": "text"
      },
      "cell_type": "markdown",
      "source": [
        "$$\n",
        "f\\big(L_{m,n} \\times I_{n,1} + B_{m,1}\\big) = O_{m,1}\n",
        "$$"
      ]
    },
    {
      "metadata": {
        "id": "MRex-6gIGSLD",
        "colab_type": "text"
      },
      "cell_type": "markdown",
      "source": [
        "Since our network will have multiple FC layers, and to avoid repetition, the logic of creating a layer ill be enclosed in a function. To create each layer, we need the the input vector, input vector size, output vector size, activation function, and a seed value to make sure the result is re-generatable."
      ]
    },
    {
      "metadata": {
        "id": "Y626jaw0GhW1",
        "colab_type": "code",
        "colab": {}
      },
      "cell_type": "code",
      "source": [
        "def add_layer(input, in_size, out_size, activation_function = None, seed = None):\n",
        "    weights = tf.Variable(tf.random_normal([in_size, out_size], seed=seed))\n",
        "    biases = tf.Variable(tf.zeros([1, out_size]) + 0.1)\n",
        "    wx_plus_b = tf.matmul(input, weights) + biases\n",
        "    output = activation_function(wx_plus_b) if activation_function else wx_plus_b\n",
        "    return output"
      ],
      "execution_count": 0,
      "outputs": []
    },
    {
      "metadata": {
        "id": "ZYH3JRMVrx-Y",
        "colab_type": "text"
      },
      "cell_type": "markdown",
      "source": [
        "## Adding Layers"
      ]
    },
    {
      "metadata": {
        "id": "Z30aT46gxAy4",
        "colab_type": "text"
      },
      "cell_type": "markdown",
      "source": [
        "Now, the network can have as many layers as required by using the `add_layer` function defined previously.\n",
        "Target structure will have 3 FC hidden layers each having 3, 10, and 3 neurons respectively.\n",
        "\n",
        "![Image of FC ANN](https://raw.githubusercontent.com/aminzabardast/Tensorflow-Tutorials/master/figures/fcann-1-3-10-3-1.png)\n",
        "\n",
        "Like before, a seed will be added to make sure the result is re-generatable."
      ]
    },
    {
      "metadata": {
        "id": "_GbWu7VjHi_3",
        "colab_type": "code",
        "colab": {}
      },
      "cell_type": "code",
      "source": [
        "# Creating layer 1. input of Layer 1 should be the placeholder for data\n",
        "l1 = add_layer(xp,1,3, tf.nn.relu,seed=2)\n",
        "# Creating layer 2. input of Layer 2 should be the output of layer 1.\n",
        "l2 = add_layer(l1, 3, 10, tf.nn.relu,seed=2)\n",
        "# Creating layer 3.\n",
        "l3 = add_layer(l2, 10, 3, tf.nn.relu,seed=2)\n",
        "# Creating output layer.\n",
        "prediction = add_layer(l3, 3, 1, seed=2)"
      ],
      "execution_count": 0,
      "outputs": []
    },
    {
      "metadata": {
        "id": "owgl9LQq2peZ",
        "colab_type": "text"
      },
      "cell_type": "markdown",
      "source": [
        "## Creating Loss Function And Optimizer"
      ]
    },
    {
      "metadata": {
        "id": "KZxqss3I2_lI",
        "colab_type": "text"
      },
      "cell_type": "markdown",
      "source": [
        "The loss function would be a simple **Mean Squared Error (MSE)** and optimizer a basic **Gradient Descent Optimizer**."
      ]
    },
    {
      "metadata": {
        "id": "r6-Of7eV2zsJ",
        "colab_type": "code",
        "colab": {}
      },
      "cell_type": "code",
      "source": [
        "loss = tf.reduce_mean(tf.reduce_sum(tf.square(yp-prediction), reduction_indices=[1]))\n",
        "train_step = tf.train.GradientDescentOptimizer(learning_rate=0.1).minimize(loss=loss)"
      ],
      "execution_count": 0,
      "outputs": []
    },
    {
      "metadata": {
        "id": "TycQ19Xj4xSA",
        "colab_type": "text"
      },
      "cell_type": "markdown",
      "source": [
        "## Running the Network"
      ]
    },
    {
      "metadata": {
        "id": "pAIHhEXh42N4",
        "colab_type": "text"
      },
      "cell_type": "markdown",
      "source": [
        "Before iterating, all variables of our structure should be initialized using `global_variables_initializer()` function.\n",
        "\n",
        "Also, the value of loss will be calculated in each itteration so the descent of loss can be plotted in the end."
      ]
    },
    {
      "metadata": {
        "id": "G6-4Sh8X29jJ",
        "colab_type": "code",
        "colab": {
          "base_uri": "https://localhost:8080/",
          "height": 204
        },
        "outputId": "f80702bb-63be-4354-8587-3ff21fe30eef"
      },
      "cell_type": "code",
      "source": [
        "# Keeping loss values in a list\n",
        "losses = []\n",
        "\n",
        "# Initializing variables and creating session\n",
        "init = tf.global_variables_initializer()\n",
        "sess = tf.Session()\n",
        "sess.run(init)\n",
        "\n",
        "# Iterating.\n",
        "for i in range(10000):\n",
        "    sess.run(train_step, feed_dict={xp: xs, yp: ys})\n",
        "    # Keeping loss value at each iteration.\n",
        "    losses.append(sess.run(loss, feed_dict={xp: xs, yp: ys}))\n",
        "    # reporting every 1000 epochs.\n",
        "    if i == 0 or (i+1) % 1000 == 0:\n",
        "      print('Epoch: %d\\t Loss: %f' % (i+1, losses[-1]))"
      ],
      "execution_count": 0,
      "outputs": [
        {
          "output_type": "stream",
          "text": [
            "Epoch: 1\t Loss: 0.216067\n",
            "Epoch: 1000\t Loss: 0.010316\n",
            "Epoch: 2000\t Loss: 0.009947\n",
            "Epoch: 3000\t Loss: 0.009707\n",
            "Epoch: 4000\t Loss: 0.009450\n",
            "Epoch: 5000\t Loss: 0.009193\n",
            "Epoch: 6000\t Loss: 0.009185\n",
            "Epoch: 7000\t Loss: 0.009230\n",
            "Epoch: 8000\t Loss: 0.009082\n",
            "Epoch: 9000\t Loss: 0.009181\n",
            "Epoch: 10000\t Loss: 0.009174\n"
          ],
          "name": "stdout"
        }
      ]
    },
    {
      "metadata": {
        "id": "WwoOHyhwpwpD",
        "colab_type": "text"
      },
      "cell_type": "markdown",
      "source": [
        "Plotting the data and the loss."
      ]
    },
    {
      "metadata": {
        "id": "82nBjsnSp4_O",
        "colab_type": "code",
        "colab": {
          "base_uri": "https://localhost:8080/",
          "height": 694
        },
        "outputId": "d4809937-fd3c-4d19-c57c-81512da8ae50"
      },
      "cell_type": "code",
      "source": [
        "# Plotting the predicted values onto the data\n",
        "plt.figure()\n",
        "plt.scatter(xs,ys)\n",
        "prediction_values = sess.run(prediction, {xp:xs})\n",
        "lines = plt.plot(xs, prediction_values, 'r', lw=2)\n",
        "\n",
        "# Plotting the Loss Descent\n",
        "plt.figure()\n",
        "plt.plot(losses)"
      ],
      "execution_count": 0,
      "outputs": [
        {
          "output_type": "execute_result",
          "data": {
            "text/plain": [
              "[<matplotlib.lines.Line2D at 0x7f55b800b2e8>]"
            ]
          },
          "metadata": {
            "tags": []
          },
          "execution_count": 9
        },
        {
          "output_type": "display_data",
          "data": {
            "image/png": "[encoded data removed]",
            "text/plain": [
              "<matplotlib.figure.Figure at 0x7f55db483dd8>"
            ]
          },
          "metadata": {
            "tags": []
          }
        },
        {
          "output_type": "display_data",
          "data": {
            "image/png": "[encoded data removed]",
            "text/plain": [
              "<matplotlib.figure.Figure at 0x7f55daa69c50>"
            ]
          },
          "metadata": {
            "tags": []
          }
        }
      ]
    }
  ]
}