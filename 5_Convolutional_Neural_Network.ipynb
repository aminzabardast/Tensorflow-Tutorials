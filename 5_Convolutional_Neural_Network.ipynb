{
  "nbformat": 4,
  "nbformat_minor": 0,
  "metadata": {
    "colab": {
      "name": "5_Convolutional_Neural_Network.ipynb",
      "version": "0.3.2",
      "provenance": [],
      "include_colab_link": true
    },
    "kernelspec": {
      "display_name": "Python 3",
      "language": "python",
      "name": "python3"
    },
    "accelerator": "GPU"
  },
  "cells": [
    {
      "cell_type": "markdown",
      "metadata": {
        "id": "view-in-github",
        "colab_type": "text"
      },
      "source": [
        "[View in Colaboratory](https://colab.research.google.com/github/aminzabardast/Tensorflow-Tutorials/blob/dev/5_Convolutional_Neural_Network.ipynb)"
      ]
    },
    {
      "metadata": {
        "id": "R4-KW_AEY9a0",
        "colab_type": "text"
      },
      "cell_type": "markdown",
      "source": [
        "# Convolutional Neural Networks With Tensor Flow"
      ]
    },
    {
      "metadata": {
        "id": "SiobR2APnwcr",
        "colab_type": "code",
        "colab": {
          "base_uri": "https://localhost:8080/",
          "height": 187
        },
        "outputId": "b008da2a-4cbe-451e-c673-cb1fe257de38"
      },
      "cell_type": "code",
      "source": [
        "!pip show tensorflow\n",
        "!rm -rf logs"
      ],
      "execution_count": 1,
      "outputs": [
        {
          "output_type": "stream",
          "text": [
            "Name: tensorflow\r\n",
            "Version: 1.9.0rc1\r\n",
            "Summary: TensorFlow is an open source machine learning framework for everyone.\r\n",
            "Home-page: https://www.tensorflow.org/\r\n",
            "Author: Google Inc.\r\n",
            "Author-email: opensource@google.com\r\n",
            "License: Apache 2.0\r\n",
            "Location: /usr/local/lib/python3.6/dist-packages\r\n",
            "Requires: grpcio, numpy, wheel, gast, setuptools, termcolor, absl-py, tensorboard, protobuf, six, astor\r\n",
            "Required-by: \r\n"
          ],
          "name": "stdout"
        }
      ]
    },
    {
      "metadata": {
        "id": "FVuRiGmqnyxv",
        "colab_type": "code",
        "colab": {
          "base_uri": "https://localhost:8080/",
          "height": 598
        },
        "outputId": "1fe22871-d56c-419c-ff59-203159e1bfe7"
      },
      "cell_type": "code",
      "source": [
        "import tensorflow as tf\n",
        "from tensorflow.examples.tutorials.mnist import input_data\n",
        "\n",
        "# Data\n",
        "mnist = input_data.read_data_sets('MNIST_data', one_hot=True)\n",
        "\n",
        "def compute_accuracy(v_xs, v_ys):\n",
        "    y_pre = sess.run(rfc2, feed_dict={xs: v_xs, dop: 1})\n",
        "    correct_prediction = tf.equal(tf.argmax(y_pre,1), tf.argmax(v_ys,1))\n",
        "    accuracy = tf.reduce_mean(tf.cast(correct_prediction, tf.float32))\n",
        "    result = sess.run(accuracy, feed_dict={xs: v_xs, ys: v_ys, dop: 1})\n",
        "    return result\n",
        "\n",
        "def weights_variable(shape):\n",
        "    initial = tf.truncated_normal(shape, stddev=.1)\n",
        "    return tf.Variable(initial)\n",
        "\n",
        "def bias_variable(shape):\n",
        "    initial = tf.constant(.1, shape=shape)\n",
        "    return tf.Variable(initial)\n",
        "\n",
        "def conv2d(x, W, name=None):\n",
        "    return tf.nn.conv2d(x, W, strides=[1, 1, 1, 1], padding='SAME', name=name)\n",
        "\n",
        "def maxPool2x2(x, name=None):\n",
        "    return tf.nn.max_pool(x, ksize=[1, 2, 2, 1], strides=[1, 2, 2, 1], padding='SAME', name=name)  # Squeezing each 2x2 box of pixels into 1 pixel and keeping the max value\n",
        "\n",
        "# Input\n",
        "with tf.name_scope('Input'):\n",
        "    xs = tf.placeholder(dtype=tf.float32, shape=[None, 784], name='Data')/255\n",
        "    x_images = tf.reshape(xs,shape=[-1, 28, 28, 1], name='ReshapedData')\n",
        "    ys = tf.placeholder(dtype=tf.float32, shape=[None, 10], name='Truth')\n",
        "with tf.name_scope('OtherVariable'):\n",
        "    dop = tf.placeholder(dtype=tf.float32, name='DropOutProb')\n",
        "\n",
        "# Conv 1\n",
        "with tf.name_scope('Conv1'):\n",
        "    kernel1 = weights_variable([5,5,1,32])  # 5x5 Kernel, Feature Map Input 1 (Gray scale image) and Output 32\n",
        "    bconv1 = bias_variable([32])\n",
        "    rconv1 = tf.nn.relu(conv2d(x_images, kernel1) + bconv1, name='Output')  # Using kernel1 to calculate the convolved layer / Output size: 28 x 28 x 32\n",
        "\n",
        "# Pool 1\n",
        "with tf.name_scope('MaxPool1'):\n",
        "    rpool1 = maxPool2x2(rconv1, name='Output')  # Max polling the result of Conv1 layer / Output size: 14 x 14 x 32\n",
        "\n",
        "# Conv 2\n",
        "with tf.name_scope('Conv2'):\n",
        "    kernel2 = weights_variable([5, 5, 32, 64])  # 5x5 Kernel, Feature Map Input 32 and Output 64\n",
        "    bconv2 = bias_variable([64])\n",
        "    rconv2 = tf.nn.relu(conv2d(rpool1, kernel2) + bconv2, name='Output')  # Using kernel2 to calculate the convolved layer / Output size: 14 x 14 x 64\n",
        "\n",
        "# Pool 2\n",
        "with tf.name_scope('Pool2'):\n",
        "    rpool2 = maxPool2x2(rconv2, name='Output')  # Max polling the result of Conv2 layer / Output size: 7 x 7 x 64\n",
        "\n",
        "# FC 1\n",
        "with tf.name_scope('FC1'):\n",
        "    weights1 = weights_variable([7*7*64, 1024])  # Weights\n",
        "    biases1 = bias_variable([1024])  # Biases\n",
        "    rpool2flat = tf.reshape(rpool2, shape=[-1, 7*7*64])  # From [n,7,7,64] to [n,3136]\n",
        "    rfc1 = tf.nn.relu(tf.matmul(rpool2flat, weights1) + biases1, name='Output')\n",
        "\n",
        "# Dropout\n",
        "with tf.name_scope('DropOut'):\n",
        "    rdo = tf.nn.dropout(rfc1, dop)\n",
        "\n",
        "# FC 2\n",
        "with tf.name_scope('FC2_CLS'):\n",
        "    weights2 = weights_variable([1024, 10])\n",
        "    biases2 = bias_variable([10])\n",
        "    rfc2 = tf.nn.softmax(tf.matmul(rdo, weights2) + biases2, name='Output')\n",
        "\n",
        "# Loss function\n",
        "with tf.name_scope('Loss'):\n",
        "    crossEntropy = tf.reduce_mean(-tf.reduce_sum(ys*tf.log(rfc2), reduction_indices=[1]))\n",
        "    tf.summary.scalar(name='CrossEntropy', tensor=crossEntropy)\n",
        "\n",
        "# Optimizer\n",
        "with tf.name_scope('Optimizer'):\n",
        "    trainStep = tf.train.AdamOptimizer().minimize(crossEntropy)\n",
        "\n",
        "init = tf.global_variables_initializer()\n",
        "sess = tf.Session()\n",
        "merged = tf.summary.merge_all()\n",
        "trainWriter = tf.summary.FileWriter(logdir='logs/train', graph=sess.graph)\n",
        "testWriter = tf.summary.FileWriter(logdir='logs/test', graph=sess.graph)\n",
        "sess.run(init)\n",
        "\n",
        "\n",
        "for epoch in range(1000):\n",
        "    trainBatchXs, trainBatchYs = mnist.train.next_batch(100)\n",
        "    testBatchXs, testBatchYs = mnist.test.next_batch(100)\n",
        "    sess.run(trainStep, feed_dict={xs: trainBatchXs, ys: trainBatchYs, dop: 1})\n",
        "    trainWriter.add_summary(sess.run(merged, feed_dict={xs: trainBatchXs, ys: trainBatchYs, dop: 1}), epoch)\n",
        "    testWriter.add_summary(sess.run(merged, feed_dict={xs: testBatchXs, ys: testBatchYs, dop: 1}), epoch)\n",
        "    if epoch % 100 == 0:\n",
        "        print(epoch)\n",
        "\n",
        "print(compute_accuracy(mnist.test.images, mnist.test.labels))\n"
      ],
      "execution_count": 2,
      "outputs": [
        {
          "output_type": "stream",
          "text": [
            "WARNING:tensorflow:From <ipython-input-2-a90c4ddf0eed>:5: read_data_sets (from tensorflow.contrib.learn.python.learn.datasets.mnist) is deprecated and will be removed in a future version.\n",
            "Instructions for updating:\n",
            "Please use alternatives such as official/mnist/dataset.py from tensorflow/models.\n",
            "WARNING:tensorflow:From /usr/local/lib/python3.6/dist-packages/tensorflow/contrib/learn/python/learn/datasets/mnist.py:260: maybe_download (from tensorflow.contrib.learn.python.learn.datasets.base) is deprecated and will be removed in a future version.\n",
            "Instructions for updating:\n",
            "Please write your own downloading logic.\n",
            "WARNING:tensorflow:From /usr/local/lib/python3.6/dist-packages/tensorflow/contrib/learn/python/learn/datasets/mnist.py:262: extract_images (from tensorflow.contrib.learn.python.learn.datasets.mnist) is deprecated and will be removed in a future version.\n",
            "Instructions for updating:\n",
            "Please use tf.data to implement this functionality.\n",
            "Extracting MNIST_data/train-images-idx3-ubyte.gz\n",
            "WARNING:tensorflow:From /usr/local/lib/python3.6/dist-packages/tensorflow/contrib/learn/python/learn/datasets/mnist.py:267: extract_labels (from tensorflow.contrib.learn.python.learn.datasets.mnist) is deprecated and will be removed in a future version.\n",
            "Instructions for updating:\n",
            "Please use tf.data to implement this functionality.\n",
            "Extracting MNIST_data/train-labels-idx1-ubyte.gz\n",
            "WARNING:tensorflow:From /usr/local/lib/python3.6/dist-packages/tensorflow/contrib/learn/python/learn/datasets/mnist.py:110: dense_to_one_hot (from tensorflow.contrib.learn.python.learn.datasets.mnist) is deprecated and will be removed in a future version.\n",
            "Instructions for updating:\n",
            "Please use tf.one_hot on tensors.\n",
            "Extracting MNIST_data/t10k-images-idx3-ubyte.gz\n",
            "Extracting MNIST_data/t10k-labels-idx1-ubyte.gz\n",
            "WARNING:tensorflow:From /usr/local/lib/python3.6/dist-packages/tensorflow/contrib/learn/python/learn/datasets/mnist.py:290: DataSet.__init__ (from tensorflow.contrib.learn.python.learn.datasets.mnist) is deprecated and will be removed in a future version.\n",
            "Instructions for updating:\n",
            "Please use alternatives such as official/mnist/dataset.py from tensorflow/models.\n",
            "0\n",
            "100\n",
            "200\n",
            "300\n",
            "400\n",
            "500\n",
            "600\n",
            "700\n",
            "800\n",
            "900\n",
            "0.9873\n"
          ],
          "name": "stdout"
        }
      ]
    },
    {
      "metadata": {
        "id": "_4hxErIooVAm",
        "colab_type": "code",
        "colab": {
          "base_uri": "https://localhost:8080/",
          "height": 204
        },
        "outputId": "f2cab30f-4eed-44a6-b38b-a1a044e34f94"
      },
      "cell_type": "code",
      "source": [
        "!tar czvf logs.tar.gz logs\n",
        "\n",
        "from google.colab import files\n",
        "files.download('logs.tar.gz')\n",
        "\n",
        "!rm -rvf logs*"
      ],
      "execution_count": 3,
      "outputs": [
        {
          "output_type": "stream",
          "text": [
            "logs/\r\n",
            "logs/test/\r\n",
            "logs/test/events.out.tfevents.1530466669.549f4ad22cd1\r\n",
            "logs/train/\r\n",
            "logs/train/events.out.tfevents.1530466669.549f4ad22cd1\n",
            "removed 'logs/test/events.out.tfevents.1530466669.549f4ad22cd1'\n",
            "removed directory 'logs/test'\n",
            "removed 'logs/train/events.out.tfevents.1530466669.549f4ad22cd1'\n",
            "removed directory 'logs/train'\n",
            "removed directory 'logs'\n",
            "removed 'logs.tar.gz'\n"
          ],
          "name": "stdout"
        }
      ]
    }
  ]
}