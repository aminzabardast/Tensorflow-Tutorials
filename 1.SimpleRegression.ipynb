{
  "nbformat": 4,
  "nbformat_minor": 0,
  "metadata": {
    "colab": {
      "name": "1.SimpleRegression.ipynb",
      "version": "0.3.2",
      "provenance": []
    },
    "kernelspec": {
      "display_name": "Python 3",
      "language": "python",
      "name": "python3"
    },
    "accelerator": "GPU"
  },
  "cells": [
    {
      "cell_type": "markdown",
      "metadata": {
        "id": "view-in-github",
        "colab_type": "text"
      },
      "source": [
        "[View in Colaboratory](https://colab.research.google.com/github/aminzabardast/Tensorflow-Tutorials/blob/dev/1.SimpleRegression.ipynb)"
      ]
    },
    {
      "metadata": {
        "id": "BWWW3wJOwJBN",
        "colab_type": "code",
        "colab": {
          "base_uri": "https://localhost:8080/",
          "height": 51
        },
        "outputId": "66f068cb-6c22-418b-9033-d78a006b126f"
      },
      "cell_type": "code",
      "source": [
        "print('hello world')\n",
        "print('This is a test in Google Colab :)')"
      ],
      "execution_count": 1,
      "outputs": [
        {
          "output_type": "stream",
          "text": [
            "hello world\n",
            "This is a test in Google Colab :)\n"
          ],
          "name": "stdout"
        }
      ]
    }
  ]
}