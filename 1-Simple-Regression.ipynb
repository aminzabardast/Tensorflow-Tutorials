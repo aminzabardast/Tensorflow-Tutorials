{
  "nbformat": 4,
  "nbformat_minor": 0,
  "metadata": {
    "colab": {
      "name": "1.SimpleRegression.ipynb",
      "version": "0.3.2",
      "provenance": []
    },
    "kernelspec": {
      "display_name": "Python 3",
      "language": "python",
      "name": "python3"
    },
    "accelerator": "GPU"
  },
  "cells": [
    {
      "cell_type": "markdown",
      "metadata": {
        "id": "view-in-github",
        "colab_type": "text"
      },
      "source": [
        "[View in Colaboratory](https://colab.research.google.com/github/aminzabardast/Tensorflow-Tutorials/blob/dev/1.SimpleRegression.ipynb)"
      ]
    },
    {
      "metadata": {
        "id": "7lZdOkAkx7NH",
        "colab_type": "text"
      },
      "cell_type": "markdown",
      "source": [
        "# Simple Iterative Regression"
      ]
    },
    {
      "metadata": {
        "id": "gX8aj49cyEi9",
        "colab_type": "text"
      },
      "cell_type": "markdown",
      "source": [
        "## Including Necessary Libraries"
      ]
    },
    {
      "metadata": {
        "id": "CKDJleIqyDCs",
        "colab_type": "code",
        "colab": {
          "base_uri": "https://localhost:8080/",
          "height": 17
        },
        "outputId": "89e0499c-3be9-48a0-e67e-ff85f8d9a1c7"
      },
      "cell_type": "code",
      "source": [
        "import tensorflow as tf\n",
        "import numpy as np\n",
        "import matplotlib.pyplot as plt"
      ],
      "execution_count": 64,
      "outputs": []
    },
    {
      "metadata": {
        "id": "ZC6H9abzyh64",
        "colab_type": "text"
      },
      "cell_type": "markdown",
      "source": [
        "## Synthesising Data"
      ]
    },
    {
      "metadata": {
        "id": "7NTXcJr564AF",
        "colab_type": "text"
      },
      "cell_type": "markdown",
      "source": [
        "Creating data points that lie on a line with an intercept of $23$ and a slope of $1.4$."
      ]
    },
    {
      "metadata": {
        "id": "tcYDFTVTyn32",
        "colab_type": "code",
        "colab": {
          "base_uri": "https://localhost:8080/",
          "height": 17
        },
        "outputId": "e18d3ddd-7eaf-40f6-898d-2482c2d5c20a"
      },
      "cell_type": "code",
      "source": [
        "x_data = np.random.rand(100).astype(np.float32)\n",
        "y_data = x_data*1.4+23  # True value of Y"
      ],
      "execution_count": 65,
      "outputs": []
    },
    {
      "metadata": {
        "id": "e939i__rytc_",
        "colab_type": "text"
      },
      "cell_type": "markdown",
      "source": [
        "Visualizing the data:"
      ]
    },
    {
      "metadata": {
        "id": "Pcx0i1xayy60",
        "colab_type": "code",
        "colab": {
          "base_uri": "https://localhost:8080/",
          "height": 364
        },
        "outputId": "3022cc1f-d831-4bb9-9d84-efdf49a36501"
      },
      "cell_type": "code",
      "source": [
        "plt.plot(x_data, y_data)"
      ],
      "execution_count": 66,
      "outputs": [
        {
          "output_type": "execute_result",
          "data": {
            "text/plain": [
              "[<matplotlib.lines.Line2D at 0x7f6911609cc0>]"
            ]
          },
          "metadata": {
            "tags": []
          },
          "execution_count": 66
        },
        {
          "output_type": "display_data",
          "data": {
            "image/png": "[encoded data removed]",
            "text/plain": [
              "<matplotlib.figure.Figure at 0x7f691165a438>"
            ]
          },
          "metadata": {
            "tags": []
          }
        }
      ]
    },
    {
      "metadata": {
        "id": "KqOAlUFtyw8b",
        "colab_type": "text"
      },
      "cell_type": "markdown",
      "source": [
        "## Creating Tensorflow Variables"
      ]
    },
    {
      "metadata": {
        "id": "WLsVVKLAzOwH",
        "colab_type": "text"
      },
      "cell_type": "markdown",
      "source": [
        "Initializing Weights with random values between $(-1, 1)$, and biases with $0$ value."
      ]
    },
    {
      "metadata": {
        "id": "EiBknP2JzKfx",
        "colab_type": "code",
        "colab": {
          "base_uri": "https://localhost:8080/",
          "height": 17
        },
        "outputId": "68b4f7d6-aa76-452f-eeb2-4ad062332390"
      },
      "cell_type": "code",
      "source": [
        "Weights = tf.Variable(initial_value=tf.random_uniform([1], -1, 1))\n",
        "biases = tf.Variable(initial_value=tf.zeros([1]))"
      ],
      "execution_count": 67,
      "outputs": []
    },
    {
      "metadata": {
        "id": "eeZL4q9Tzslh",
        "colab_type": "text"
      },
      "cell_type": "markdown",
      "source": [
        "## Calculating Predicted value of $y$"
      ]
    },
    {
      "metadata": {
        "id": "_T0xgxG3zxZq",
        "colab_type": "code",
        "colab": {
          "base_uri": "https://localhost:8080/",
          "height": 17
        },
        "outputId": "0bb6763b-497f-484e-d587-8898c780dbaf"
      },
      "cell_type": "code",
      "source": [
        "y_pred = Weights * x_data + biases"
      ],
      "execution_count": 68,
      "outputs": []
    },
    {
      "metadata": {
        "id": "y8ID6Craz6Mh",
        "colab_type": "text"
      },
      "cell_type": "markdown",
      "source": [
        "Predicted $y$ would be a *Tensor*."
      ]
    },
    {
      "metadata": {
        "id": "G2VTOcBxz1-U",
        "colab_type": "code",
        "colab": {
          "base_uri": "https://localhost:8080/",
          "height": 34
        },
        "outputId": "928907f3-f3d1-4d8f-b363-39eae95d23ac"
      },
      "cell_type": "code",
      "source": [
        "type(y_pred)"
      ],
      "execution_count": 69,
      "outputs": [
        {
          "output_type": "execute_result",
          "data": {
            "text/plain": [
              "tensorflow.python.framework.ops.Tensor"
            ]
          },
          "metadata": {
            "tags": []
          },
          "execution_count": 69
        }
      ]
    },
    {
      "metadata": {
        "id": "HhIWhhVa0Eqn",
        "colab_type": "text"
      },
      "cell_type": "markdown",
      "source": [
        "## Simple Loss Function"
      ]
    },
    {
      "metadata": {
        "id": "B0jd3Obm0Umv",
        "colab_type": "text"
      },
      "cell_type": "markdown",
      "source": [
        "The loss function would be a simple Mean Squared Error:\n",
        "$$\n",
        "L = \\dfrac{1}{N}\\sum_{i}{(y'-y)^2}\n",
        "$$\n",
        "where `y_data` is $y$ and `y_pred` is $y'$."
      ]
    },
    {
      "metadata": {
        "id": "Fo0uLp250D9t",
        "colab_type": "code",
        "colab": {
          "base_uri": "https://localhost:8080/",
          "height": 17
        },
        "outputId": "f16456f7-f22c-4853-eed0-30b229fd1894"
      },
      "cell_type": "code",
      "source": [
        "loss = tf.reduce_mean(tf.square(y_pred-y_data))"
      ],
      "execution_count": 70,
      "outputs": []
    },
    {
      "metadata": {
        "id": "mL2Kyi_O1o_2",
        "colab_type": "text"
      },
      "cell_type": "markdown",
      "source": [
        "## Optimizing the initial values"
      ]
    },
    {
      "metadata": {
        "id": "JbLG5X4S1tdX",
        "colab_type": "text"
      },
      "cell_type": "markdown",
      "source": [
        "For this code, a *Gradient Descent* optimizer would be enough."
      ]
    },
    {
      "metadata": {
        "id": "vVSACNRv1r01",
        "colab_type": "code",
        "colab": {
          "base_uri": "https://localhost:8080/",
          "height": 17
        },
        "outputId": "6675149e-9150-4166-8191-1c860bca66be"
      },
      "cell_type": "code",
      "source": [
        "optimizer = tf.train.GradientDescentOptimizer(learning_rate=0.5)"
      ],
      "execution_count": 71,
      "outputs": []
    },
    {
      "metadata": {
        "id": "M6DmVw2E3Sof",
        "colab_type": "text"
      },
      "cell_type": "markdown",
      "source": [
        "## Creating Training Step"
      ]
    },
    {
      "metadata": {
        "id": "miZlyY_h3SQ9",
        "colab_type": "code",
        "colab": {
          "base_uri": "https://localhost:8080/",
          "height": 17
        },
        "outputId": "3bb3da6f-abab-43c0-b4f1-05013d354a84"
      },
      "cell_type": "code",
      "source": [
        "train = optimizer.minimize(loss=loss)"
      ],
      "execution_count": 72,
      "outputs": []
    },
    {
      "metadata": {
        "id": "KAQxIDhc10Sj",
        "colab_type": "text"
      },
      "cell_type": "markdown",
      "source": [
        "## Initilizing Variables and Creating Session"
      ]
    },
    {
      "metadata": {
        "id": "8Fo-HSEs2Sl7",
        "colab_type": "text"
      },
      "cell_type": "markdown",
      "source": [
        "After creating the tensor structure, Everything should be initilized."
      ]
    },
    {
      "metadata": {
        "id": "mH9ZBlGI2MYr",
        "colab_type": "code",
        "colab": {
          "base_uri": "https://localhost:8080/",
          "height": 17
        },
        "outputId": "da8a42bf-a099-425f-ed05-e00766d34afe"
      },
      "cell_type": "code",
      "source": [
        "init = tf.global_variables_initializer()\n",
        "\n",
        "sess = tf.Session()\n",
        "sess.run(fetches=init)"
      ],
      "execution_count": 73,
      "outputs": []
    },
    {
      "metadata": {
        "id": "zlwSdo7b23Nd",
        "colab_type": "text"
      },
      "cell_type": "markdown",
      "source": [
        "## Iterating the result."
      ]
    },
    {
      "metadata": {
        "id": "wW37nx5d29OC",
        "colab_type": "code",
        "colab": {
          "base_uri": "https://localhost:8080/",
          "height": 204
        },
        "outputId": "250690f3-5ce2-4f5a-a311-1ea8d6052976"
      },
      "cell_type": "code",
      "source": [
        "for i in range(201):\n",
        "    sess.run(fetches=train)\n",
        "    if i % 20 == 0:\n",
        "        print(i, sess.run(Weights), sess.run(biases))"
      ],
      "execution_count": 74,
      "outputs": [
        {
          "output_type": "stream",
          "text": [
            "0 [11.752113] [23.370518]\n",
            "20 [2.845679] [22.254917]\n",
            "40 [1.6603194] [22.865835]\n",
            "60 [1.4468753] [22.975842]\n",
            "80 [1.4084407] [22.99565]\n",
            "100 [1.4015208] [22.999216]\n",
            "120 [1.4002743] [22.999859]\n",
            "140 [1.4000486] [22.999975]\n",
            "160 [1.400009] [22.999996]\n",
            "180 [1.4000026] [22.999998]\n",
            "200 [1.4000026] [22.999998]\n"
          ],
          "name": "stdout"
        }
      ]
    },
    {
      "metadata": {
        "id": "DkwiW6Ap4ChY",
        "colab_type": "text"
      },
      "cell_type": "markdown",
      "source": [
        "The result indicates that The Slope (Weights) and Intercept (biases) have been converged to the correct values.\n",
        "\n",
        "**Weights:** $1.4000026 \\approx 1.4$\n",
        "\n",
        "**Biases:** $22.999998 \\approx 23$\n"
      ]
    }
  ]
}