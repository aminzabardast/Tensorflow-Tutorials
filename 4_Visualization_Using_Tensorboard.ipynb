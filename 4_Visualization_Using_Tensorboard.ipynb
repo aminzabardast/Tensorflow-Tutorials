{
  "nbformat": 4,
  "nbformat_minor": 0,
  "metadata": {
    "colab": {
      "name": "4_Visualization_Using_Tensorboard.ipynb",
      "version": "0.3.2",
      "provenance": [],
      "include_colab_link": true
    },
    "kernelspec": {
      "display_name": "Python 3",
      "language": "python",
      "name": "python3"
    },
    "accelerator": "GPU"
  },
  "cells": [
    {
      "cell_type": "markdown",
      "metadata": {
        "id": "view-in-github",
        "colab_type": "text"
      },
      "source": [
        "[View in Colaboratory](https://colab.research.google.com/github/aminzabardast/Tensorflow-Tutorials/blob/dev/4_Visualization_Using_Tensorboard.ipynb)"
      ]
    },
    {
      "metadata": {
        "id": "s4hM7lZDtSEe",
        "colab_type": "text"
      },
      "cell_type": "markdown",
      "source": [
        "# Visualization Using Tensorboard"
      ]
    },
    {
      "metadata": {
        "id": "CfKaIiiObK8B",
        "colab_type": "text"
      },
      "cell_type": "markdown",
      "source": [
        "Visualization of structure and progress is an important part of designing an Artificial Neural Network (ANN). The aim of this notebook is to initiate the tensorflow user with visualization capabilities of Tensorflow."
      ]
    },
    {
      "metadata": {
        "id": "AxFUKd9-eweA",
        "colab_type": "text"
      },
      "cell_type": "markdown",
      "source": [
        "The visualization tool included in Tensorflow package is named Tensorboard. Tensorflow documentation introduces Tensorboard as:\n",
        "\n",
        "> The computations you'll use TensorFlow for - like training a massive deep neural network - can be complex and confusing. To make it easier to understand, debug, and optimize TensorFlow programs, we've included a suite of visualization tools called TensorBoard. You can use TensorBoard to visualize your TensorFlow graph, plot quantitative metrics about the execution of your graph, and show additional data like images that pass through it."
      ]
    },
    {
      "metadata": {
        "id": "ZSiZR51wf-qs",
        "colab_type": "text"
      },
      "cell_type": "markdown",
      "source": [
        "## Learning by example:"
      ]
    },
    {
      "metadata": {
        "id": "duMKnyDPgFIA",
        "colab_type": "text"
      },
      "cell_type": "markdown",
      "source": [
        "Importing necessary libraries."
      ]
    },
    {
      "metadata": {
        "id": "Ob0uXmN1xJER",
        "colab_type": "code",
        "colab": {
          "base_uri": "https://localhost:8080/",
          "height": 17
        },
        "outputId": "a3d57caa-22d8-4b1f-ee7a-20d5580ca3e7"
      },
      "cell_type": "code",
      "source": [
        "import tensorflow as tf\n",
        "import numpy as np"
      ],
      "execution_count": 1,
      "outputs": []
    },
    {
      "metadata": {
        "id": "ZX_OYoUliE5c",
        "colab_type": "text"
      },
      "cell_type": "markdown",
      "source": [
        "Generating Example Data. This example is the same as previous notebook. The only change is making the ANN generate necessary file for Tensorboard's visualization."
      ]
    },
    {
      "metadata": {
        "id": "LqD-ba09xLAT",
        "colab_type": "code",
        "colab": {
          "base_uri": "https://localhost:8080/",
          "height": 17
        },
        "outputId": "3fea443f-6fcb-4351-e312-7cad02b88201"
      },
      "cell_type": "code",
      "source": [
        "np.random.seed(seed=23)\n",
        "xs = np.linspace(-1, 1, 300)[:, np.newaxis]\n",
        "noise = np.random.normal(0, .1, size=xs.shape)\n",
        "ys = np.square(xs) - 0.5 + noise"
      ],
      "execution_count": 2,
      "outputs": []
    },
    {
      "metadata": {
        "id": "H5yN9bbD5ZV1",
        "colab_type": "text"
      },
      "cell_type": "markdown",
      "source": [
        "If we simply generate the files after initiating the session, the structure of the graph (ANN structure) would be as follow.\n",
        "\n",
        "![Unstructured Network](https://raw.githubusercontent.com/aminzabardast/Tensorflow-Tutorials/dev/figures/4_unstructured_graph.png)\n",
        "\n",
        "This is not informative and does not look like a neural network. To make the generated graph look better we have to modify the code."
      ]
    },
    {
      "metadata": {
        "id": "-cu8v5qWitwt",
        "colab_type": "text"
      },
      "cell_type": "markdown",
      "source": [
        "### Changing `add_layer` function"
      ]
    },
    {
      "metadata": {
        "id": "-3px3ba_i5uA",
        "colab_type": "text"
      },
      "cell_type": "markdown",
      "source": [
        "We can group different parts of a graph together by using `tf.name_scope`."
      ]
    },
    {
      "metadata": {
        "id": "MMcJpKXaCGHq",
        "colab_type": "text"
      },
      "cell_type": "markdown",
      "source": [
        "For example, a whole layer can be encapsulated in a group and inside, weights and biases can be encapsulated in other seperate groups.\n",
        "Below is the new code for adding layers."
      ]
    },
    {
      "metadata": {
        "id": "z0Kda3YpxT_F",
        "colab_type": "code",
        "colab": {
          "base_uri": "https://localhost:8080/",
          "height": 17
        },
        "outputId": "62e5b0a3-8905-488f-abd0-2838b1dfc4f2"
      },
      "cell_type": "code",
      "source": [
        "def add_layer(input, in_size, out_size, name, activation_function=None, seed=None):\n",
        "    with tf.name_scope('Layer_%s' % name):\n",
        "        with tf.name_scope('Weights'):\n",
        "            weights = tf.Variable(tf.random_normal([in_size, out_size], seed=seed))\n",
        "        with tf.name_scope('Biases'):\n",
        "            biases = tf.Variable(tf.zeros([1, out_size]) + 0.1)\n",
        "        wx_plus_b = tf.matmul(input, weights) + biases\n",
        "        output = activation_function(wx_plus_b) if activation_function else wx_plus_b\n",
        "        return output"
      ],
      "execution_count": 3,
      "outputs": []
    },
    {
      "metadata": {
        "id": "JwpACPkDFsj5",
        "colab_type": "text"
      },
      "cell_type": "markdown",
      "source": [
        "### Encapsulating Placeholders"
      ]
    },
    {
      "metadata": {
        "id": "XwANkEDtCkT4",
        "colab_type": "text"
      },
      "cell_type": "markdown",
      "source": [
        "Input vectors can be encapsulated as well."
      ]
    },
    {
      "metadata": {
        "id": "gPdrgQ7yxV__",
        "colab_type": "code",
        "colab": {
          "base_uri": "https://localhost:8080/",
          "height": 17
        },
        "outputId": "f11999ef-96ec-458c-8bcb-f006eab4fe4e"
      },
      "cell_type": "code",
      "source": [
        "with tf.name_scope('Input'):\n",
        "    xp = tf.placeholder(tf.float32, shape=[None, 1])\n",
        "with tf.name_scope('Truth'):\n",
        "    yp = tf.placeholder(tf.float32, shape=[None, 1])"
      ],
      "execution_count": 4,
      "outputs": []
    },
    {
      "metadata": {
        "id": "8519CLhbGGAt",
        "colab_type": "text"
      },
      "cell_type": "markdown",
      "source": [
        "### Creating the Structures"
      ]
    },
    {
      "metadata": {
        "id": "EBmMBOQ8xYF6",
        "colab_type": "code",
        "colab": {
          "base_uri": "https://localhost:8080/",
          "height": 17
        },
        "outputId": "7923ee45-fdc6-4e24-b877-a2774ab19d32"
      },
      "cell_type": "code",
      "source": [
        "l1 = add_layer(xp, 1, 3, '1', tf.nn.relu, seed=2)\n",
        "l2 = add_layer(l1, 3, 10, '2', tf.nn.relu, seed=2)\n",
        "l3 = add_layer(l2, 10, 3, '3', tf.nn.relu, seed=2)\n",
        "prediction = add_layer(l3, 3, 1, 'Output', seed=2)"
      ],
      "execution_count": 5,
      "outputs": []
    },
    {
      "metadata": {
        "id": "AMHntIjkGX2H",
        "colab_type": "text"
      },
      "cell_type": "markdown",
      "source": [
        "### Encapsulating and plotting Loss"
      ]
    },
    {
      "metadata": {
        "id": "qettee84G3aJ",
        "colab_type": "text"
      },
      "cell_type": "markdown",
      "source": [
        "Alongside encapsulating the loss for the graph, it is possible to define a scalar summerizer to keep track of value of loss. The result of this would become a loss vs epoch graph."
      ]
    },
    {
      "metadata": {
        "id": "J02FSG_1xbZ2",
        "colab_type": "code",
        "colab": {
          "base_uri": "https://localhost:8080/",
          "height": 17
        },
        "outputId": "3e06d7ab-e8f8-44e8-bd8f-028127c82e62"
      },
      "cell_type": "code",
      "source": [
        "with tf.name_scope('Loss'):\n",
        "    loss = tf.reduce_mean(tf.reduce_sum(tf.square(yp-prediction), reduction_indices=[1]))\n",
        "    tf.summary.scalar(name='MSE', tensor=loss)"
      ],
      "execution_count": 6,
      "outputs": []
    },
    {
      "metadata": {
        "id": "ky7_IamTG0ys",
        "colab_type": "text"
      },
      "cell_type": "markdown",
      "source": [
        "### Encapsulating Training Step"
      ]
    },
    {
      "metadata": {
        "id": "ndV4uKcKxdmQ",
        "colab_type": "code",
        "colab": {
          "base_uri": "https://localhost:8080/",
          "height": 17
        },
        "outputId": "b4785347-0116-43c8-c137-4c671e9c2eb1"
      },
      "cell_type": "code",
      "source": [
        "with tf.name_scope('Train'):\n",
        "    train_step = tf.train.GradientDescentOptimizer(learning_rate=.1).minimize(loss=loss)"
      ],
      "execution_count": 7,
      "outputs": []
    },
    {
      "metadata": {
        "id": "KaGy8v_RGfas",
        "colab_type": "text"
      },
      "cell_type": "markdown",
      "source": [
        "### Creating File Writer"
      ]
    },
    {
      "metadata": {
        "id": "7j6HHjQJLAGW",
        "colab_type": "text"
      },
      "cell_type": "markdown",
      "source": [
        "After initiating a session, all the summaries created should merge togehter and then a file writer should be created"
      ]
    },
    {
      "metadata": {
        "id": "MG5STD-Hxj3d",
        "colab_type": "code",
        "colab": {
          "base_uri": "https://localhost:8080/",
          "height": 17
        },
        "outputId": "75b2b944-5b61-47d5-cb94-0bf776bba0c4"
      },
      "cell_type": "code",
      "source": [
        "init = tf.global_variables_initializer()\n",
        "sess = tf.Session()"
      ],
      "execution_count": 8,
      "outputs": []
    },
    {
      "metadata": {
        "id": "gCXX4MccxmOK",
        "colab_type": "code",
        "colab": {
          "base_uri": "https://localhost:8080/",
          "height": 17
        },
        "outputId": "7c4b56f7-3324-4b93-9773-33d1e5cd4f2a"
      },
      "cell_type": "code",
      "source": [
        "merged = tf.summary.merge_all()\n",
        "writer = tf.summary.FileWriter(logdir='logs/', graph=sess.graph)\n",
        "sess.run(init)"
      ],
      "execution_count": 9,
      "outputs": []
    },
    {
      "metadata": {
        "id": "Hb7rnQ5PMc2i",
        "colab_type": "text"
      },
      "cell_type": "markdown",
      "source": [
        "### Iterating and Training"
      ]
    },
    {
      "metadata": {
        "id": "Ks9smAiVMmuk",
        "colab_type": "text"
      },
      "cell_type": "markdown",
      "source": [
        "During the training, all the summaries should run through the network and their result should be added using File Writer."
      ]
    },
    {
      "metadata": {
        "id": "UnhMAouYDZ75",
        "colab_type": "text"
      },
      "cell_type": "markdown",
      "source": [
        "**Colaboratory Note:**\n",
        "Do not run previous steps multiple times. This breaks the session. If needed, **restart the run time** from `Runtime > Restart runtime...` ."
      ]
    },
    {
      "metadata": {
        "id": "becevXFNxqP2",
        "colab_type": "code",
        "colab": {
          "base_uri": "https://localhost:8080/",
          "height": 17
        },
        "outputId": "35ce7667-27f6-4a05-bd15-0123271ae259"
      },
      "cell_type": "code",
      "source": [
        "for i in range(10000):\n",
        "  sess.run(train_step, feed_dict={xp: xs, yp: ys})\n",
        "  result = sess.run(merged, feed_dict={xp: np.array(xs), yp: np.array(ys)})\n",
        "  writer.add_summary(result, i)"
      ],
      "execution_count": 10,
      "outputs": []
    },
    {
      "metadata": {
        "id": "TOoTPWsu5phv",
        "colab_type": "text"
      },
      "cell_type": "markdown",
      "source": [
        "### Resulting Graphs "
      ]
    },
    {
      "metadata": {
        "id": "MlzoKUUs63X9",
        "colab_type": "text"
      },
      "cell_type": "markdown",
      "source": [
        "By using `tf.name_scope`, the resulting graph is much more structured looks like a valid illustration of a neural network. Following image is resulting graph .\n",
        "\n",
        "![Structured Graph](https://raw.githubusercontent.com/aminzabardast/Tensorflow-Tutorials/dev/figures/4_structured_graph.png)"
      ]
    },
    {
      "metadata": {
        "id": "yFltq5yYRXRK",
        "colab_type": "text"
      },
      "cell_type": "markdown",
      "source": [
        "## Download Data From [Google Colaboratory](https://colab.research.google.com/)"
      ]
    },
    {
      "metadata": {
        "id": "CNf4MCNuRiSJ",
        "colab_type": "text"
      },
      "cell_type": "markdown",
      "source": [
        "Now, the data generating throught this run will be saved in `logs/` directory.\n",
        "\n",
        "To list the available directories use the following command."
      ]
    },
    {
      "metadata": {
        "id": "IqjlDA6t0IqP",
        "colab_type": "code",
        "colab": {
          "base_uri": "https://localhost:8080/",
          "height": 34
        },
        "outputId": "ae391373-b55f-49c6-c432-7694c7f47899"
      },
      "cell_type": "code",
      "source": [
        "!ls"
      ],
      "execution_count": 11,
      "outputs": [
        {
          "output_type": "stream",
          "text": [
            "datalab  logs\r\n"
          ],
          "name": "stdout"
        }
      ]
    },
    {
      "metadata": {
        "id": "aiwV1gsvSVzd",
        "colab_type": "text"
      },
      "cell_type": "markdown",
      "source": [
        "you also can archive and compress the result and download them to your local machine."
      ]
    },
    {
      "metadata": {
        "id": "tpwYbP01x0Vg",
        "colab_type": "code",
        "colab": {
          "base_uri": "https://localhost:8080/",
          "height": 51
        },
        "outputId": "0c66bf3a-4eda-468e-c7d1-3ee21a51f52a"
      },
      "cell_type": "code",
      "source": [
        "!tar czvf logs.tar.gz logs"
      ],
      "execution_count": 12,
      "outputs": [
        {
          "output_type": "stream",
          "text": [
            "logs/\r\n",
            "logs/events.out.tfevents.1530366153.5fa3f6799776\r\n"
          ],
          "name": "stdout"
        }
      ]
    },
    {
      "metadata": {
        "id": "Mt8ejZ_8yNUa",
        "colab_type": "code",
        "colab": {
          "base_uri": "https://localhost:8080/",
          "height": 17
        },
        "outputId": "dc63b15f-9509-44b3-f8c6-7ab2da8a83d3"
      },
      "cell_type": "code",
      "source": [
        "from google.colab import files\n",
        "files.download('logs.tar.gz')"
      ],
      "execution_count": 13,
      "outputs": []
    },
    {
      "metadata": {
        "id": "GuCs-UriSjWo",
        "colab_type": "text"
      },
      "cell_type": "markdown",
      "source": [
        "And remove the log files afterwards."
      ]
    },
    {
      "metadata": {
        "id": "flj_diWxyYUa",
        "colab_type": "code",
        "colab": {
          "base_uri": "https://localhost:8080/",
          "height": 68
        },
        "outputId": "443127fb-46be-45e1-9138-b61464d63c9d"
      },
      "cell_type": "code",
      "source": [
        "!rm -rvf logs*"
      ],
      "execution_count": 14,
      "outputs": [
        {
          "output_type": "stream",
          "text": [
            "removed 'logs/events.out.tfevents.1530366153.5fa3f6799776'\r\n",
            "removed directory 'logs'\r\n",
            "removed 'logs.tar.gz'\r\n"
          ],
          "name": "stdout"
        }
      ]
    },
    {
      "metadata": {
        "id": "SrkPYrH323gp",
        "colab_type": "text"
      },
      "cell_type": "markdown",
      "source": [
        "## Running Tensorboard"
      ]
    },
    {
      "metadata": {
        "id": "2Uy6a0TH26JK",
        "colab_type": "text"
      },
      "cell_type": "markdown",
      "source": [
        "The command to run Tensorboard is\n",
        "```\n",
        "$ tensorboard --logdir /path/to/logs/directory/\n",
        "```\n",
        "Tensorboard will be running on port `6006` by default."
      ]
    },
    {
      "metadata": {
        "id": "PnBp-DN6AVvY",
        "colab_type": "text"
      },
      "cell_type": "markdown",
      "source": [
        "At this point, oppening Tensorboard's user interface should have two active tabs, `Scalars` and `Graphs`. `Scalars` shows **Loss vs. Epoch** graph and `Graphs` shows **the Structure of the ANN**.\n",
        "\n",
        "![Tensoarboard UI](https://raw.githubusercontent.com/aminzabardast/Tensorflow-Tutorials/a836b831383441811e69dcda43cf2bc2ac6e18c2/figures/4_tensor_board_ui.png)"
      ]
    }
  ]
}