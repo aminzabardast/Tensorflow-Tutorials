{
  "nbformat": 4,
  "nbformat_minor": 0,
  "metadata": {
    "colab": {
      "name": "4_Visualization_Using_Tensorboard.ipynb",
      "version": "0.3.2",
      "provenance": [],
      "include_colab_link": true
    },
    "kernelspec": {
      "display_name": "Python 3",
      "language": "python",
      "name": "python3"
    }
  },
  "cells": [
    {
      "cell_type": "markdown",
      "metadata": {
        "id": "view-in-github",
        "colab_type": "text"
      },
      "source": [
        "[View in Colaboratory](https://colab.research.google.com/github/aminzabardast/Tensorflow-Tutorials/blob/dev/4_Visualization_Using_Tensorboard.ipynb)"
      ]
    },
    {
      "metadata": {
        "id": "s4hM7lZDtSEe",
        "colab_type": "text"
      },
      "cell_type": "markdown",
      "source": [
        "# Visualization Using Tensorboard"
      ]
    }
  ]
}