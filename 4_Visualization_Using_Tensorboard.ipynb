{
  "nbformat": 4,
  "nbformat_minor": 0,
  "metadata": {
    "colab": {
      "name": "4_Visualization_Using_Tensorboard.ipynb",
      "version": "0.3.2",
      "provenance": [],
      "include_colab_link": true
    },
    "kernelspec": {
      "display_name": "Python 3",
      "language": "python",
      "name": "python3"
    },
    "accelerator": "GPU"
  },
  "cells": [
    {
      "cell_type": "markdown",
      "metadata": {
        "id": "view-in-github",
        "colab_type": "text"
      },
      "source": [
        "[View in Colaboratory](https://colab.research.google.com/github/aminzabardast/Tensorflow-Tutorials/blob/dev/4_Visualization_Using_Tensorboard.ipynb)"
      ]
    },
    {
      "metadata": {
        "id": "s4hM7lZDtSEe",
        "colab_type": "text"
      },
      "cell_type": "markdown",
      "source": [
        "# Visualization Using Tensorboard"
      ]
    },
    {
      "metadata": {
        "id": "Ob0uXmN1xJER",
        "colab_type": "code",
        "colab": {}
      },
      "cell_type": "code",
      "source": [
        "import tensorflow as tf\n",
        "import numpy as np"
      ],
      "execution_count": 0,
      "outputs": []
    },
    {
      "metadata": {
        "id": "LqD-ba09xLAT",
        "colab_type": "code",
        "colab": {}
      },
      "cell_type": "code",
      "source": [
        "np.random.seed(seed=23)\n",
        "xs = np.linspace(-1, 1, 300)[:, np.newaxis]\n",
        "noise = np.random.normal(0, .1, size=xs.shape)\n",
        "ys = np.square(xs) - 0.5 + noise"
      ],
      "execution_count": 0,
      "outputs": []
    },
    {
      "metadata": {
        "id": "z0Kda3YpxT_F",
        "colab_type": "code",
        "colab": {}
      },
      "cell_type": "code",
      "source": [
        "def add_layer(input, in_size, out_size, name, activation_function=None, seed=None):\n",
        "    with tf.name_scope('Layer_%s' % name):\n",
        "        with tf.name_scope('Weights'):\n",
        "            weights = tf.Variable(tf.random_normal([in_size, out_size], seed=seed))\n",
        "        with tf.name_scope('Biases'):\n",
        "            biases = tf.Variable(tf.zeros([1, out_size]) + 0.1)\n",
        "        wx_plus_b = tf.matmul(input, weights) + biases\n",
        "        output = activation_function(wx_plus_b) if activation_function else wx_plus_b\n",
        "        return output"
      ],
      "execution_count": 0,
      "outputs": []
    },
    {
      "metadata": {
        "id": "gPdrgQ7yxV__",
        "colab_type": "code",
        "colab": {}
      },
      "cell_type": "code",
      "source": [
        "with tf.name_scope('Input'):\n",
        "    xp = tf.placeholder(tf.float32, shape=[None, 1], name='InputVector')\n",
        "with tf.name_scope('Truth'):\n",
        "    yp = tf.placeholder(tf.float32, shape=[None, 1], name='LabelVector')"
      ],
      "execution_count": 0,
      "outputs": []
    },
    {
      "metadata": {
        "id": "EBmMBOQ8xYF6",
        "colab_type": "code",
        "colab": {}
      },
      "cell_type": "code",
      "source": [
        "l1 = add_layer(xp, 1, 3, '1', tf.nn.relu, seed=2)\n",
        "l2 = add_layer(l1, 3, 10, '2', tf.nn.relu, seed=2)\n",
        "l3 = add_layer(l2, 10, 3, '3', tf.nn.relu, seed=2)\n",
        "prediction = add_layer(l3, 3, 1, 'Output', seed=2)"
      ],
      "execution_count": 0,
      "outputs": []
    },
    {
      "metadata": {
        "id": "J02FSG_1xbZ2",
        "colab_type": "code",
        "colab": {}
      },
      "cell_type": "code",
      "source": [
        "with tf.name_scope('Loss'):\n",
        "    loss = tf.reduce_mean(tf.reduce_sum(tf.square(yp-prediction), reduction_indices=[1]))\n",
        "    tf.summary.scalar(name='MSE', tensor=loss)"
      ],
      "execution_count": 0,
      "outputs": []
    },
    {
      "metadata": {
        "id": "ndV4uKcKxdmQ",
        "colab_type": "code",
        "colab": {}
      },
      "cell_type": "code",
      "source": [
        "with tf.name_scope('Train'):\n",
        "    train_step = tf.train.GradientDescentOptimizer(learning_rate=.1).minimize(loss=loss)"
      ],
      "execution_count": 0,
      "outputs": []
    },
    {
      "metadata": {
        "id": "MG5STD-Hxj3d",
        "colab_type": "code",
        "colab": {}
      },
      "cell_type": "code",
      "source": [
        "init = tf.global_variables_initializer()\n",
        "sess = tf.Session()"
      ],
      "execution_count": 0,
      "outputs": []
    },
    {
      "metadata": {
        "id": "gCXX4MccxmOK",
        "colab_type": "code",
        "colab": {}
      },
      "cell_type": "code",
      "source": [
        "merged = tf.summary.merge_all(key=tf.GraphKeys.SUMMARIES)\n",
        "writer = tf.summary.FileWriter(logdir='logs/', graph=sess.graph)\n",
        "sess.run(init)"
      ],
      "execution_count": 0,
      "outputs": []
    },
    {
      "metadata": {
        "id": "UnhMAouYDZ75",
        "colab_type": "text"
      },
      "cell_type": "markdown",
      "source": [
        "#### **Colaboratory Note:**\n",
        "Do not run previous steps multiple times. This breaks the session. If needed, **restart the run time** from `Runtime > Restart runtime...` ."
      ]
    },
    {
      "metadata": {
        "id": "becevXFNxqP2",
        "colab_type": "code",
        "colab": {}
      },
      "cell_type": "code",
      "source": [
        "for i in range(10000):\n",
        "  sess.run(train_step, feed_dict={xp: xs, yp: ys})\n",
        "  result = sess.run(merged, feed_dict={xp: np.array(xs), yp: np.array(ys)})\n",
        "  writer.add_summary(result, i)"
      ],
      "execution_count": 0,
      "outputs": []
    },
    {
      "metadata": {
        "id": "IqjlDA6t0IqP",
        "colab_type": "code",
        "colab": {}
      },
      "cell_type": "code",
      "source": [
        "!ls"
      ],
      "execution_count": 0,
      "outputs": []
    },
    {
      "metadata": {
        "id": "tpwYbP01x0Vg",
        "colab_type": "code",
        "colab": {}
      },
      "cell_type": "code",
      "source": [
        "!tar czvf logs.tar.gz logs\n",
        "!ls"
      ],
      "execution_count": 0,
      "outputs": []
    },
    {
      "metadata": {
        "id": "Mt8ejZ_8yNUa",
        "colab_type": "code",
        "colab": {}
      },
      "cell_type": "code",
      "source": [
        "from google.colab import files\n",
        "files.download('logs.tar.gz')"
      ],
      "execution_count": 0,
      "outputs": []
    },
    {
      "metadata": {
        "id": "flj_diWxyYUa",
        "colab_type": "code",
        "colab": {}
      },
      "cell_type": "code",
      "source": [
        "!rm -rvf logs*\n",
        "!ls"
      ],
      "execution_count": 0,
      "outputs": []
    }
  ]
}