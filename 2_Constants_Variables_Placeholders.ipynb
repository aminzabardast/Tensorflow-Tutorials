{
  "nbformat": 4,
  "nbformat_minor": 0,
  "metadata": {
    "colab": {
      "name": "2_Constants_Variables_Placeholders.ipynb",
      "version": "0.3.2",
      "provenance": []
    },
    "kernelspec": {
      "display_name": "Python 3",
      "language": "python",
      "name": "python3"
    }
  },
  "cells": [
    {
      "cell_type": "markdown",
      "metadata": {
        "id": "view-in-github",
        "colab_type": "text"
      },
      "source": [
        "[View in Colaboratory](https://colab.research.google.com/github/aminzabardast/Tensorflow-Tutorials/blob/dev/2_Constants_Variables_Placeholders.ipynb)"
      ]
    },
    {
      "metadata": {
        "id": "p9HWBEyGRiKl",
        "colab_type": "text"
      },
      "cell_type": "markdown",
      "source": [
        "# Constants, Variables, and Placeholders"
      ]
    },
    {
      "metadata": {
        "id": "nA3fZSqsS2jy",
        "colab_type": "text"
      },
      "cell_type": "markdown",
      "source": [
        "Importing necessary libraries is the initial patch of code which should be executed."
      ]
    },
    {
      "metadata": {
        "id": "JaFbomCPTHgF",
        "colab_type": "code",
        "colab": {
          "base_uri": "https://localhost:8080/",
          "height": 17
        },
        "outputId": "5881e33b-c686-4b75-a255-2d655b3665ff"
      },
      "cell_type": "code",
      "source": [
        "import tensorflow as tf"
      ],
      "execution_count": 25,
      "outputs": []
    },
    {
      "metadata": {
        "id": "lB2cuQRKSues",
        "colab_type": "text"
      },
      "cell_type": "markdown",
      "source": [
        "## Constants"
      ]
    },
    {
      "metadata": {
        "id": "U1L0vgBNSRD_",
        "colab_type": "text"
      },
      "cell_type": "markdown",
      "source": [
        "Constants are any tensors that their values will not change during the flow or itteration. Creating constants is done with `tensorflow.constant` function."
      ]
    },
    {
      "metadata": {
        "id": "PvVH6f5DTP15",
        "colab_type": "text"
      },
      "cell_type": "markdown",
      "source": [
        "> Example: Creating two matrices, A and B with following structures.\n",
        "\n",
        "$$\n",
        "A =\n",
        "\\begin{bmatrix}\n",
        "2 & 3\n",
        "\\end{bmatrix}\n",
        ",\n",
        "B = \n",
        "\\begin{bmatrix}\n",
        "1 \\\\ 4\n",
        "\\end{bmatrix}\n",
        "C = \\begin{bmatrix}\n",
        "1 & 4\n",
        "\\end{bmatrix}\n",
        "$$"
      ]
    },
    {
      "metadata": {
        "id": "S-6-wVU2SQkt",
        "colab_type": "code",
        "colab": {
          "base_uri": "https://localhost:8080/",
          "height": 34
        },
        "outputId": "c7acd6cd-3f34-4364-a3fd-77ceef54bc25"
      },
      "cell_type": "code",
      "source": [
        "A = tf.constant([[2, 3]])\n",
        "B = tf.constant([[1], [4]])\n",
        "C = tf.constant([[1, 4]])\n",
        "type(C)"
      ],
      "execution_count": 26,
      "outputs": [
        {
          "output_type": "execute_result",
          "data": {
            "text/plain": [
              "tensorflow.python.framework.ops.Tensor"
            ]
          },
          "metadata": {
            "tags": []
          },
          "execution_count": 26
        }
      ]
    },
    {
      "metadata": {
        "id": "LRW16cvCUHPs",
        "colab_type": "text"
      },
      "cell_type": "markdown",
      "source": [
        "Following this step, we can add both matrix together or multiple them or etc.\n",
        "Adding matrices together is done with `tensorflow.add` function ot simply `+` operation.\n",
        "Matrix Multiplication is done with `tensorflow.matmul` function."
      ]
    },
    {
      "metadata": {
        "id": "0AtXeKRxRh1O",
        "colab_type": "code",
        "colab": {
          "base_uri": "https://localhost:8080/",
          "height": 17
        },
        "outputId": "781cc5fe-554c-4312-f612-88d049938403"
      },
      "cell_type": "code",
      "source": [
        "sumAC = A + C  # or tf.add(A, C)\n",
        "productAB = tf.matmul(A, B)"
      ],
      "execution_count": 27,
      "outputs": []
    },
    {
      "metadata": {
        "id": "h2nlbIi4U4eh",
        "colab_type": "text"
      },
      "cell_type": "markdown",
      "source": [
        "Since These are constants and not valiables, there is no need to initilize them.\n",
        "We will use initilization in next session.\n",
        "For now, we calculate the result of matrix addition and multiplication."
      ]
    },
    {
      "metadata": {
        "id": "mFK3WV-6Vh90",
        "colab_type": "code",
        "colab": {
          "base_uri": "https://localhost:8080/",
          "height": 51
        },
        "outputId": "c3e0a6ff-7385-4b2b-b837-a611c6de6e0d"
      },
      "cell_type": "code",
      "source": [
        "sess = tf.Session()\n",
        "print(sess.run(sumAC))\n",
        "print(sess.run(productAB))"
      ],
      "execution_count": 28,
      "outputs": [
        {
          "output_type": "stream",
          "text": [
            "[[3 7]]\n",
            "[[14]]\n"
          ],
          "name": "stdout"
        }
      ]
    },
    {
      "metadata": {
        "id": "AqaN9REQWLwf",
        "colab_type": "text"
      },
      "cell_type": "markdown",
      "source": [
        "## Variables"
      ]
    },
    {
      "metadata": {
        "id": "iV7akWiPWNWI",
        "colab_type": "text"
      },
      "cell_type": "markdown",
      "source": [
        "Variables are any tensors that their values can change during the flow or itteration.\n",
        "However, variables need to have an initial value.\n",
        "Creating variables is done with `tensorflow.Variable` function. Note that `Variable` is with a capital **V**."
      ]
    },
    {
      "metadata": {
        "id": "TX9-EinYXln9",
        "colab_type": "text"
      },
      "cell_type": "markdown",
      "source": [
        "Example: Creating a counter that itterates to 100:\n",
        "\n",
        "\n",
        "\n"
      ]
    },
    {
      "metadata": {
        "id": "TJsS0rAqnGd-",
        "colab_type": "text"
      },
      "cell_type": "markdown",
      "source": [
        "> First, creating a variable for counter with initial value of $0$."
      ]
    },
    {
      "metadata": {
        "id": "Pb1QTGGWnPgH",
        "colab_type": "code",
        "colab": {
          "base_uri": "https://localhost:8080/",
          "height": 34
        },
        "outputId": "6c311ae8-f72b-43df-872c-ca16fc456477"
      },
      "cell_type": "code",
      "source": [
        "counter = tf.Variable(initial_value=0)\n",
        "type(counter)"
      ],
      "execution_count": 29,
      "outputs": [
        {
          "output_type": "execute_result",
          "data": {
            "text/plain": [
              "tensorflow.python.ops.variables.Variable"
            ]
          },
          "metadata": {
            "tags": []
          },
          "execution_count": 29
        }
      ]
    },
    {
      "metadata": {
        "id": "ZUiJ21dKnVTY",
        "colab_type": "text"
      },
      "cell_type": "markdown",
      "source": [
        "> Then, we create an operation. What this operation does is to add $1$ to the counter."
      ]
    },
    {
      "metadata": {
        "id": "QcvOFidQn1JL",
        "colab_type": "code",
        "colab": {
          "base_uri": "https://localhost:8080/",
          "height": 34
        },
        "outputId": "376cd35f-971f-4c18-f1dc-bb74d6ecb57e"
      },
      "cell_type": "code",
      "source": [
        "add_one = tf.add(counter, 1)\n",
        "type(add_one)"
      ],
      "execution_count": 30,
      "outputs": [
        {
          "output_type": "execute_result",
          "data": {
            "text/plain": [
              "tensorflow.python.framework.ops.Tensor"
            ]
          },
          "metadata": {
            "tags": []
          },
          "execution_count": 30
        }
      ]
    },
    {
      "metadata": {
        "id": "EPuHAOZaoAVu",
        "colab_type": "text"
      },
      "cell_type": "markdown",
      "source": [
        "> Next step is to update the `counter` value using `add_one` operation."
      ]
    },
    {
      "metadata": {
        "id": "7uzJm5pSq4TA",
        "colab_type": "code",
        "colab": {
          "base_uri": "https://localhost:8080/",
          "height": 34
        },
        "outputId": "ba032069-1673-4059-e981-d5c137fcf504"
      },
      "cell_type": "code",
      "source": [
        "update = tf.assign(counter, add_one)\n",
        "type(update)"
      ],
      "execution_count": 31,
      "outputs": [
        {
          "output_type": "execute_result",
          "data": {
            "text/plain": [
              "tensorflow.python.framework.ops.Tensor"
            ]
          },
          "metadata": {
            "tags": []
          },
          "execution_count": 31
        }
      ]
    },
    {
      "metadata": {
        "id": "0aO7noEsrnep",
        "colab_type": "text"
      },
      "cell_type": "markdown",
      "source": [
        "> In case of networks with `Variables`, initiation of `Variables` is necessary before creating a `Session`."
      ]
    },
    {
      "metadata": {
        "id": "fNIo-mYcsGtS",
        "colab_type": "code",
        "colab": {
          "base_uri": "https://localhost:8080/",
          "height": 17
        },
        "outputId": "e64b0cb2-12eb-4b36-ceef-1d90c6c9bc70"
      },
      "cell_type": "code",
      "source": [
        "init = tf.global_variables_initializer()"
      ],
      "execution_count": 32,
      "outputs": []
    },
    {
      "metadata": {
        "id": "aa-SldfQsI0Q",
        "colab_type": "text"
      },
      "cell_type": "markdown",
      "source": [
        "> After this, itteration will be done on update step."
      ]
    },
    {
      "metadata": {
        "id": "p3U4c3kfK196",
        "colab_type": "code",
        "colab": {
          "base_uri": "https://localhost:8080/",
          "height": 204
        },
        "outputId": "b4659528-45f1-4584-a2a3-c1bc60c98524"
      },
      "cell_type": "code",
      "source": [
        "sess = tf.Session()\n",
        "sess.run(init)\n",
        "\n",
        "for i in range(100):\n",
        "  if i % 10 == 0:\n",
        "    print(end='\\n')\n",
        "  sess.run(update)\n",
        "  print(sess.run(counter), end='\\t')"
      ],
      "execution_count": 33,
      "outputs": [
        {
          "output_type": "stream",
          "text": [
            "\n",
            "1\t2\t3\t4\t5\t6\t7\t8\t9\t10\t\n",
            "11\t12\t13\t14\t15\t16\t17\t18\t19\t20\t\n",
            "21\t22\t23\t24\t25\t26\t27\t28\t29\t30\t\n",
            "31\t32\t33\t34\t35\t36\t37\t38\t39\t40\t\n",
            "41\t42\t43\t44\t45\t46\t47\t48\t49\t50\t\n",
            "51\t52\t53\t54\t55\t56\t57\t58\t59\t60\t\n",
            "61\t62\t63\t64\t65\t66\t67\t68\t69\t70\t\n",
            "71\t72\t73\t74\t75\t76\t77\t78\t79\t80\t\n",
            "81\t82\t83\t84\t85\t86\t87\t88\t89\t90\t\n",
            "91\t92\t93\t94\t95\t96\t97\t98\t99\t100\t"
          ],
          "name": "stdout"
        }
      ]
    },
    {
      "metadata": {
        "id": "1EvdMePHs8-n",
        "colab_type": "text"
      },
      "cell_type": "markdown",
      "source": [
        "## Placeholders"
      ]
    },
    {
      "metadata": {
        "id": "CqXuZWMfNNkN",
        "colab_type": "text"
      },
      "cell_type": "markdown",
      "source": [
        "Placeholders are any tensors that their values can change during the flow or itteration.\n",
        "Unlike the `Variable`, placeholder does not need initiation value. However, they need their data type to be predetermind.\n",
        "\n",
        "Placeholders are usually used to intorduce the initial values to the network.\n",
        "Creating Placeholders is done with `tensorflow.placeholder` function."
      ]
    },
    {
      "metadata": {
        "id": "qpcC-o5jQiHT",
        "colab_type": "text"
      },
      "cell_type": "markdown",
      "source": [
        "Example: Multiplying two numbers together."
      ]
    },
    {
      "metadata": {
        "id": "-pWsk5lWSIJg",
        "colab_type": "text"
      },
      "cell_type": "markdown",
      "source": [
        "> First, placeholders are initiated along side multiplication operation."
      ]
    },
    {
      "metadata": {
        "id": "hMJ_w2JZtCMc",
        "colab_type": "code",
        "colab": {
          "base_uri": "https://localhost:8080/",
          "height": 17
        },
        "outputId": "dc3e4b82-8409-432b-b347-8190e3b4f365"
      },
      "cell_type": "code",
      "source": [
        "input1 = tf.placeholder(dtype=tf.float32)\n",
        "input2 = tf.placeholder(dtype=tf.float32)\n",
        "output = tf.multiply(input1, input2)"
      ],
      "execution_count": 34,
      "outputs": []
    },
    {
      "metadata": {
        "id": "7qIDD2EmURsQ",
        "colab_type": "text"
      },
      "cell_type": "markdown",
      "source": [
        "> The actual values for placecholders will be provided to the session after the structure have been created."
      ]
    },
    {
      "metadata": {
        "id": "cCbsKN6kTMmd",
        "colab_type": "code",
        "colab": {
          "base_uri": "https://localhost:8080/",
          "height": 34
        },
        "outputId": "10dae79c-0ae0-4b32-db29-d7dff75a8955"
      },
      "cell_type": "code",
      "source": [
        "sess = tf.Session()\n",
        "print(sess.run(output, feed_dict={input1: [14, 23], input2: [23, 14]}))"
      ],
      "execution_count": 35,
      "outputs": [
        {
          "output_type": "stream",
          "text": [
            "[322. 322.]\n"
          ],
          "name": "stdout"
        }
      ]
    },
    {
      "metadata": {
        "id": "-2wDWFOaR-S_",
        "colab_type": "text"
      },
      "cell_type": "markdown",
      "source": [
        "> "
      ]
    }
  ]
}