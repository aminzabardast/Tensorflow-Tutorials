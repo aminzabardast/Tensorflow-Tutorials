{
  "nbformat": 4,
  "nbformat_minor": 0,
  "metadata": {
    "colab": {
      "name": "2_Constants_Variables_Placeholders.ipynb",
      "version": "0.3.2",
      "provenance": []
    },
    "kernelspec": {
      "display_name": "Python 3",
      "language": "python",
      "name": "python3"
    }
  },
  "cells": [
    {
      "cell_type": "markdown",
      "metadata": {
        "id": "view-in-github",
        "colab_type": "text"
      },
      "source": [
        "[View in Colaboratory](https://colab.research.google.com/github/aminzabardast/Tensorflow-Tutorials/blob/dev/2_Constants_Variables_Placeholders.ipynb)"
      ]
    },
    {
      "metadata": {
        "id": "p9HWBEyGRiKl",
        "colab_type": "text"
      },
      "cell_type": "markdown",
      "source": [
        "# Constants, Variables, and Placeholders"
      ]
    },
    {
      "metadata": {
        "id": "nA3fZSqsS2jy",
        "colab_type": "text"
      },
      "cell_type": "markdown",
      "source": [
        "Importing necessary libraries is the initial patch of code which should be executed."
      ]
    },
    {
      "metadata": {
        "id": "JaFbomCPTHgF",
        "colab_type": "code",
        "colab": {
          "base_uri": "https://localhost:8080/",
          "height": 17
        },
        "outputId": "dc0b0a33-a4ab-4777-a880-42db37648c45"
      },
      "cell_type": "code",
      "source": [
        "import tensorflow as tf"
      ],
      "execution_count": 1,
      "outputs": []
    },
    {
      "metadata": {
        "id": "lB2cuQRKSues",
        "colab_type": "text"
      },
      "cell_type": "markdown",
      "source": [
        "## Constants"
      ]
    },
    {
      "metadata": {
        "id": "U1L0vgBNSRD_",
        "colab_type": "text"
      },
      "cell_type": "markdown",
      "source": [
        "Constants are any tensors that their values will not change during the flow or itteration. Creating constants is done with `tensorflow.constant` function."
      ]
    },
    {
      "metadata": {
        "id": "PvVH6f5DTP15",
        "colab_type": "text"
      },
      "cell_type": "markdown",
      "source": [
        "> Example: Creating two matrices, A and B with following structures.\n",
        "\n",
        "$$\n",
        "A =\n",
        "\\begin{bmatrix}\n",
        "2 & 3\n",
        "\\end{bmatrix}\n",
        ",\n",
        "B = \n",
        "\\begin{bmatrix}\n",
        "1 \\\\ 4\n",
        "\\end{bmatrix}\n",
        "C = \\begin{bmatrix}\n",
        "1 & 4\n",
        "\\end{bmatrix}\n",
        "$$"
      ]
    },
    {
      "metadata": {
        "id": "S-6-wVU2SQkt",
        "colab_type": "code",
        "colab": {
          "base_uri": "https://localhost:8080/",
          "height": 17
        },
        "outputId": "a5e970c9-c8fa-47f1-80a7-01f37e18b1ab"
      },
      "cell_type": "code",
      "source": [
        "A = tf.constant([[2, 3]])\n",
        "B = tf.constant([[1], [4]])\n",
        "C = tf.constant([[1, 4]])"
      ],
      "execution_count": 6,
      "outputs": []
    },
    {
      "metadata": {
        "id": "LRW16cvCUHPs",
        "colab_type": "text"
      },
      "cell_type": "markdown",
      "source": [
        "Following this step, we can add both matrix together or multiple them or etc.\n",
        "Adding matrices together is done with `tensorflow.add` function ot simply `+` operation.\n",
        "Matrix Multiplication is done with `tensorflow.matmul` function."
      ]
    },
    {
      "metadata": {
        "id": "0AtXeKRxRh1O",
        "colab_type": "code",
        "colab": {
          "base_uri": "https://localhost:8080/",
          "height": 17
        },
        "outputId": "2e0f03a8-6ad9-48b0-cf04-b81eaf1aa5ae"
      },
      "cell_type": "code",
      "source": [
        "sumAC = A + C  # or tf.add(A, C)\n",
        "productAB = tf.matmul(A, B)"
      ],
      "execution_count": 7,
      "outputs": []
    },
    {
      "metadata": {
        "id": "h2nlbIi4U4eh",
        "colab_type": "text"
      },
      "cell_type": "markdown",
      "source": [
        "Since These are constants and not valiables, there is no need to initilize them.\n",
        "We will use initilization in next session.\n",
        "For now, we calculate the result of matrix addition and multiplication."
      ]
    },
    {
      "metadata": {
        "id": "mFK3WV-6Vh90",
        "colab_type": "code",
        "colab": {
          "base_uri": "https://localhost:8080/",
          "height": 51
        },
        "outputId": "2e8c0961-8916-439a-cc48-00e7d32a489f"
      },
      "cell_type": "code",
      "source": [
        "sess = tf.Session()\n",
        "print(sess.run(sumAC))\n",
        "print(sess.run(productAB))"
      ],
      "execution_count": 9,
      "outputs": [
        {
          "output_type": "stream",
          "text": [
            "[[3 7]]\n",
            "[[14]]\n"
          ],
          "name": "stdout"
        }
      ]
    },
    {
      "metadata": {
        "id": "AqaN9REQWLwf",
        "colab_type": "text"
      },
      "cell_type": "markdown",
      "source": [
        "## Variables"
      ]
    },
    {
      "metadata": {
        "id": "iV7akWiPWNWI",
        "colab_type": "text"
      },
      "cell_type": "markdown",
      "source": [
        "Variables are any tensors that their values can change during the flow or itteration.\n",
        "However, variables need to have an initial value.\n",
        "Creating variables is done with `tensorflow.Variable` function. Note that `Variable` is with a capital **V**."
      ]
    },
    {
      "metadata": {
        "id": "TX9-EinYXln9",
        "colab_type": "text"
      },
      "cell_type": "markdown",
      "source": [
        "> Example: Creating a counter that itterates to 100:\n",
        "\n",
        "\n",
        "\n"
      ]
    },
    {
      "metadata": {
        "id": "p3U4c3kfK196",
        "colab_type": "code",
        "colab": {
          "base_uri": "https://localhost:8080/",
          "height": 204
        },
        "outputId": "a5ce6659-0972-4151-d293-43613023e547"
      },
      "cell_type": "code",
      "source": [
        "counter = tf.Variable(initial_value=0)\n",
        "add_one = tf.add(counter, 1)\n",
        "update = tf.assign(counter, add_one)\n",
        "\n",
        "init = tf.global_variables_initializer()\n",
        "\n",
        "sess = tf.Session()\n",
        "sess.run(init)\n",
        "\n",
        "for i in range(100):\n",
        "  if i % 10 == 0:\n",
        "    print(end='\\n')\n",
        "  sess.run(update)\n",
        "  print(sess.run(counter), end='\\t')"
      ],
      "execution_count": 20,
      "outputs": [
        {
          "output_type": "stream",
          "text": [
            "\n",
            "1\t2\t3\t4\t5\t6\t7\t8\t9\t10\t\n",
            "11\t12\t13\t14\t15\t16\t17\t18\t19\t20\t\n",
            "21\t22\t23\t24\t25\t26\t27\t28\t29\t30\t\n",
            "31\t32\t33\t34\t35\t36\t37\t38\t39\t40\t\n",
            "41\t42\t43\t44\t45\t46\t47\t48\t49\t50\t\n",
            "51\t52\t53\t54\t55\t56\t57\t58\t59\t60\t\n",
            "61\t62\t63\t64\t65\t66\t67\t68\t69\t70\t\n",
            "71\t72\t73\t74\t75\t76\t77\t78\t79\t80\t\n",
            "81\t82\t83\t84\t85\t86\t87\t88\t89\t90\t\n",
            "91\t92\t93\t94\t95\t96\t97\t98\t99\t100\t"
          ],
          "name": "stdout"
        }
      ]
    }
  ]
}